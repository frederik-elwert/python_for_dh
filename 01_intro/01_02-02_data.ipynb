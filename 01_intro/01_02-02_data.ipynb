{
 "cells": [
  {
   "cell_type": "markdown",
   "id": "marked-cruise",
   "metadata": {},
   "source": [
    "# Introduction to Data"
   ]
  },
  {
   "cell_type": "markdown",
   "id": "trained-observation",
   "metadata": {},
   "source": [
    "## What is Data?"
   ]
  },
  {
   "cell_type": "markdown",
   "id": "southwest-binary",
   "metadata": {},
   "source": [
    "In Python there are seven key pieces of data and data structures with which we will be working:\n",
    "\n",
    "- strings (text)\n",
    "- integers (whole numbers)\n",
    "- floats (decimal numbers)\n",
    "- Booleans (True or False)\n",
    "- lists\n",
    "- tuples (lists that cannot be changed in memory)\n",
    "- dictionaries (key : value)\n",
    "\n",
    "In this chapter, we will explore each of these. While this section focuses on data: strings, integers, floats, and Booleans; the next section will focus on data structures: lists, tuples, and dictionaries.\n",
    "\n",
    "Data are pieces of information (the singular is datum)i.e., integers, floats, and strings. Data structures are objects that make data relational, i.e. lists, tuples, and dictionaries. Start to train your brain to recognize the Python syntax for these pieces of data and data structures discussed below.\n",
    "\n",
    "For your convenience, here is a cheatsheet for helping you refer back to these types of data."
   ]
  },
  {
   "cell_type": "markdown",
   "id": "e117bfd6-d40f-4210-8690-da80f12a8289",
   "metadata": {},
   "source": [
    "`````{admonition} Cheatsheet for Data Types and Data Structures in Python\n",
    ":class: tip\n",
    "| Name       | Type    | Category | Example           | Trick         | Mutable |\n",
    "|------------|---------|----------|-------------------|---------------|---------|\n",
    "| string     | `str`   | text     | `\"William\"`       | quotes        | no      |\n",
    "| integer    | `int`   | number   | `1`               | no decimal    | no      |\n",
    "| float      | `float` | number   | `1.1`             | with decimal  | no      |\n",
    "| Boolean    | `bool`  | boolean  | `True`            | True or False | no      |\n",
    "| list       | `list`  | sequence | `[1, 1.1, \"one\"]` | []            | yes     |\n",
    "| tuple      | `tuple` | sequence | `(1, 1.1, \"one\")` | ()            | no      |\n",
    "| set        | `set`   | sequence | `{1, 1.1, \"one\"}` | {} - unique   | yes     |\n",
    "| dictionary | `dict`  | mapping  | `{\"name\": \"tom\"}` | {key:value}   | yes     |\n",
    "`````"
   ]
  },
  {
   "cell_type": "markdown",
   "id": "selective-dutch",
   "metadata": {},
   "source": [
    "## Strings"
   ]
  },
  {
   "cell_type": "markdown",
   "id": "valid-karma",
   "metadata": {},
   "source": [
    "<b>Strings</b> are a sequence of characters. A good way to think about a string is as a text. We can create a string in Python by designating a unique variable name and setting = to something within quotation marks, i.e. ” ” or ‘ ‘.\n",
    "\n",
    "The opening of a quotation mark indicates to Python that a string has begun and the closing of the same style of a quotation mark indicates the close of a string. It is important to use the same style of quotation mark for a string, either a double or a single.\n",
    "\n",
    "Let's take a look at a few examples of strings."
   ]
  },
  {
   "cell_type": "markdown",
   "id": "partial-found",
   "metadata": {},
   "source": [
    "### Examples of Strings"
   ]
  },
  {
   "cell_type": "markdown",
   "id": "a89d0ba9-094b-427d-b235-29eb44b823a2",
   "metadata": {},
   "source": [
    "In our first example of a string, we will name our first string object with the variable name `first_string`. Notice that we are using an underscore (`_`) to indicate a separation of two words in our variable name. This is common practice in Python. We cannot use a space in a variable name. Another naming convention could be `firstString`, where the first word is lower cased while the start of each sequential word is capitalized. This naming convention, while acceptable, is more common in other programming languages, such as JavaScript."
   ]
  },
  {
   "cell_type": "code",
   "execution_count": 2,
   "id": "swiss-cardiff",
   "metadata": {},
   "outputs": [],
   "source": [
    "first_string = \"This is a string.\""
   ]
  },
  {
   "cell_type": "markdown",
   "id": "99ad6c43-777f-4e92-9baa-d4229093df99",
   "metadata": {},
   "source": [
    "Now that we have created our first object, let's try and print it off. We can do this using the `print` function."
   ]
  },
  {
   "cell_type": "code",
   "execution_count": 3,
   "id": "exterior-camcorder",
   "metadata": {},
   "outputs": [
    {
     "name": "stdout",
     "output_type": "stream",
     "text": [
      "This is a string.\n"
     ]
    }
   ],
   "source": [
    "print(first_string)"
   ]
  },
  {
   "cell_type": "markdown",
   "id": "8ee1916e-e2ba-4895-ba3d-b0c59f029aaa",
   "metadata": {},
   "source": [
    "Let's take a look at another example. This time, however, we will use two `'`."
   ]
  },
  {
   "cell_type": "code",
   "execution_count": 4,
   "id": "unique-hampton",
   "metadata": {},
   "outputs": [
    {
     "name": "stdout",
     "output_type": "stream",
     "text": [
      "This is a string too.\n"
     ]
    }
   ],
   "source": [
    "second_string = 'This is a string too.'\n",
    "print(second_string)"
   ]
  },
  {
   "cell_type": "markdown",
   "id": "0038caa4-7d6c-4856-9d25-8603c8eddb99",
   "metadata": {},
   "source": [
    "In the Trinket application below, create a string and print it off."
   ]
  },
  {
   "cell_type": "code",
   "execution_count": 5,
   "id": "middle-hampshire",
   "metadata": {},
   "outputs": [
    {
     "data": {
      "text/html": [
       "\n",
       "        <iframe\n",
       "            width=\"700\"\n",
       "            height=\"500\"\n",
       "            src=\"https://trinket.io/embed/python3/3fe4c8f3f4\"\n",
       "            frameborder=\"0\"\n",
       "            allowfullscreen\n",
       "            \n",
       "        ></iframe>\n",
       "        "
      ],
      "text/plain": [
       "<IPython.lib.display.IFrame at 0x7fed6eecc760>"
      ]
     },
     "execution_count": 5,
     "metadata": {},
     "output_type": "execute_result"
    }
   ],
   "source": [
    "from IPython.display import IFrame\n",
    "IFrame('https://trinket.io/embed/python3/3fe4c8f3f4', 700, 500)"
   ]
  },
  {
   "cell_type": "markdown",
   "id": "1c3e4a1e-c188-4a7b-98eb-8a20432d7680",
   "metadata": {},
   "source": [
    "Let's now take a look at a bad example of a string. In the example below, we will intentionally try to create an error message by combining two different types of quotation marks."
   ]
  },
  {
   "cell_type": "code",
   "execution_count": 6,
   "id": "sharp-nursery",
   "metadata": {},
   "outputs": [
    {
     "ename": "SyntaxError",
     "evalue": "EOL while scanning string literal (770532565.py, line 1)",
     "output_type": "error",
     "traceback": [
      "\u001b[0;36m  Input \u001b[0;32mIn [6]\u001b[0;36m\u001b[0m\n\u001b[0;31m    bad_string = \"This is a bad example of a string'\u001b[0m\n\u001b[0m                                                    ^\u001b[0m\n\u001b[0;31mSyntaxError\u001b[0m\u001b[0;31m:\u001b[0m EOL while scanning string literal\n"
     ]
    }
   ],
   "source": [
    "bad_string = \"This is a bad example of a string'"
   ]
  },
  {
   "cell_type": "markdown",
   "id": "7c44d735-ae5f-4bcc-aad7-e7c844b91b10",
   "metadata": {},
   "source": [
    "This error message tells us that we have triggered a \"SyntaxError\". A SyntaxError is a Python error in which we have used improper syntax, or coding language. This means that when our computer tries to execute the above code, it does not know how to interpret the line. You will frequently encounter errors like this in your journey as a programmer.\n",
    "\n",
    "It is always important to read the error message as it will inform you about the specifics of the problem. For example, I can see that my error was triggered because of something in the input cell **6**. If you were executing this same command within a Python script, you would see the specific line that triggered the error. This allows you to begin to **debug** or identify the source of the error and fix it. If, for some reason, you cannot understand the cause of the error, it may help to Google the error message and search for answers on forums, such as StackOverflow."
   ]
  },
  {
   "cell_type": "markdown",
   "id": "c8efa795-3028-4036-9967-7a572a4a32f4",
   "metadata": {},
   "source": [
    "Sometimes, it will be necessary to have a very long string that spans multiple lines within a Python script. In these instances, you can use three of the same quotation mark style (single or double) consistently to create a string over multiple lines."
   ]
  },
  {
   "cell_type": "code",
   "execution_count": 7,
   "id": "thermal-spokesman",
   "metadata": {},
   "outputs": [],
   "source": [
    "long_string = '''\n",
    "\n",
    "This is a verrry long string.\n",
    "\n",
    "'''"
   ]
  },
  {
   "cell_type": "code",
   "execution_count": 8,
   "id": "interpreted-review",
   "metadata": {},
   "outputs": [
    {
     "name": "stdout",
     "output_type": "stream",
     "text": [
      "\n",
      "\n",
      "This is a verrry long string.\n",
      "\n",
      "\n"
     ]
    }
   ],
   "source": [
    "print(long_string)"
   ]
  },
  {
   "cell_type": "markdown",
   "id": "lyric-fleet",
   "metadata": {
    "tags": []
   },
   "source": [
    "## Working with Strings as Data"
   ]
  },
  {
   "cell_type": "markdown",
   "id": "scheduled-thomas",
   "metadata": {},
   "source": [
    "Often when working within Python, you will not be simply creating data, you will be manipulating it and changing it. Because humanists frequently work with strings, I recommend spending a good deal of time practicing and memorizing the basic ways we work with strings in Python via the built-in methods.\n",
    "\n",
    "In order to interact with strings as pieces of data, we use <b>methods</b> and <b>functions</b>. The chief functions for interacting with strings on a basic level come standard with Python. This means that you do not need to install third-party libraries. Later in this textbook we will do more advanced things with strings using third-party libraries, such as Regex, but for now, we will simply work with the basic methods.\n",
    "\n",
    "Let's learn to manipulate strings now through code, but first we need to create a string. Let's call it sentence."
   ]
  },
  {
   "cell_type": "code",
   "execution_count": 9,
   "id": "latest-reading",
   "metadata": {},
   "outputs": [],
   "source": [
    "sentence = \"I am going to learn how to program in Python!\""
   ]
  },
  {
   "cell_type": "markdown",
   "id": "97cbb60f-3d1d-42dc-81ea-b9cdf6742d5f",
   "metadata": {},
   "source": [
    "### Upper Method"
   ]
  },
  {
   "cell_type": "markdown",
   "id": "intense-vampire",
   "metadata": {},
   "source": [
    "It is not a very clever name, but it will work for our purposes. Now, let's try to convert the entire string into all uppercase letters. We can do this with the method <b>`.upper()`</b>. Notice that the `.upper()` is coming after the string and within the `()` are no arguments. This is a way you can easily identify a method (as opposed to a function). We will learn more about these distinctions in the chapters on functions and classes."
   ]
  },
  {
   "cell_type": "code",
   "execution_count": 49,
   "id": "stylish-roller",
   "metadata": {},
   "outputs": [
    {
     "name": "stdout",
     "output_type": "stream",
     "text": [
      "I AM GOING TO LEARN HOW TO PROGRAM IN PYTHON!\n"
     ]
    }
   ],
   "source": [
    "print(sentence.upper())"
   ]
  },
  {
   "cell_type": "markdown",
   "id": "7191a8a7-a972-4a2d-b127-24c2bbf81383",
   "metadata": {},
   "source": [
    "### Lower Method"
   ]
  },
  {
   "cell_type": "markdown",
   "id": "computational-inspector",
   "metadata": {},
   "source": [
    "Noice that our string is now all uppercase. We can do the same thing with the <b>`.lower()`</b> method, but this method will make everything in the string lowercase."
   ]
  },
  {
   "cell_type": "code",
   "execution_count": 50,
   "id": "medical-priority",
   "metadata": {},
   "outputs": [
    {
     "name": "stdout",
     "output_type": "stream",
     "text": [
      "i am going to learn how to program in python!\n"
     ]
    }
   ],
   "source": [
    "print(sentence.lower())"
   ]
  },
  {
   "cell_type": "markdown",
   "id": "bf57c7b9-f8a9-4c4c-a7dd-95210a0579e3",
   "metadata": {},
   "source": [
    "### Capitalize Method"
   ]
  },
  {
   "cell_type": "markdown",
   "id": "single-aging",
   "metadata": {},
   "source": [
    "On the surface, these methods may appear to only be useful in niche circumstances. While these methods are useful for making strings look the way you want them to look, they have far greater utility. Imagine if you wanted to search for a name, \"William\", in a string. What if the data you are examining is from emails, text messages, etc. William may be capitalized or not. This means that you would have to run two searches for William across a string. If, however, you lowercase the string before you search, you can simply search for \"william\" and you will find all hits. This is one of the things that happens on the back-end of most search engines to ensure that your search is not strictly case-sensitive. In Python, however, it is important to do this step of data cleaning before running searches over strings.\n",
    "\n",
    "Let's explore another method, <b>`.capitalize()`</b>. This method will allow you to capitalize a string."
   ]
  },
  {
   "cell_type": "code",
   "execution_count": 13,
   "id": "discrete-peeing",
   "metadata": {},
   "outputs": [],
   "source": [
    "first_name = \"william\""
   ]
  },
  {
   "cell_type": "code",
   "execution_count": 16,
   "id": "medieval-price",
   "metadata": {},
   "outputs": [
    {
     "name": "stdout",
     "output_type": "stream",
     "text": [
      "William\n"
     ]
    }
   ],
   "source": [
    "print(first_name.capitalize())"
   ]
  },
  {
   "cell_type": "markdown",
   "id": "11a2f0ef-c709-4ae5-acb9-f01664b41076",
   "metadata": {},
   "source": [
    "I will use this in niche circumstances, particularly when I am performing data cleaning and need to ensure that all names or proper nouns in a dataset are cleaned and well-structured."
   ]
  },
  {
   "cell_type": "markdown",
   "id": "b4d66e04-199e-43b6-bacb-6a934b9347e0",
   "metadata": {},
   "source": [
    "### Replace Method"
   ]
  },
  {
   "cell_type": "markdown",
   "id": "diagnostic-eagle",
   "metadata": {},
   "source": [
    "Perhaps the most useful string method is .replace(). Notice in the cells below, replace takes a mandatory of two arguments, or things passed between the parentheses. Each is separated by a comma. The first argument is the substring or piece of the string that you want to replace and the second argument is what you want to replace it with. Why is this so useful? If you are using Python to analyze texts, those texts will, I promise, never be well-cleaned. They may have bad encoding, characters that will throw off searches, bad OCR, multiple line breaks, hyphenated characters, the list goes on. The <b>`.replace()`</b> method allows you to quickly and effectively clean textual data so that it can be standardized.\n",
    "\n",
    "Unlike the above methods, for `.replace()`, we need to put two things within the parentheses. These are known as arguments. This method requires two and they must be in order. The first is the thing that you want to replace and the second is the thing that you want to replace it with. These will be separated by a parentheses and both must be strings. It should, therefore, look something like this:\n",
    "\n",
    "```\n",
    ".replace(\"the thing to replace\", \"the thing you want to replace it with\")\n",
    "```\n",
    "\n",
    "In the example below, let's try and replace the period at the end of \"Mattingly.\""
   ]
  },
  {
   "cell_type": "code",
   "execution_count": 51,
   "id": "competent-saturday",
   "metadata": {},
   "outputs": [],
   "source": [
    "introduction = \"My name is William Mattingly.\""
   ]
  },
  {
   "cell_type": "code",
   "execution_count": 52,
   "id": "bacterial-milan",
   "metadata": {},
   "outputs": [
    {
     "name": "stdout",
     "output_type": "stream",
     "text": [
      "My name is William Mattingly\n"
     ]
    }
   ],
   "source": [
    "print(introduction.replace(\".\", \"\"))"
   ]
  },
  {
   "cell_type": "markdown",
   "id": "retained-giving",
   "metadata": {},
   "source": [
    "Excellent! Now, let's try and reprint off `introduction_sentence` and see what happens."
   ]
  },
  {
   "cell_type": "code",
   "execution_count": 19,
   "id": "sudden-cooling",
   "metadata": {},
   "outputs": [
    {
     "name": "stdout",
     "output_type": "stream",
     "text": [
      "My name is William Mattingly.\n"
     ]
    }
   ],
   "source": [
    "print(introduction)"
   ]
  },
  {
   "cell_type": "markdown",
   "id": "announced-chamber",
   "metadata": {},
   "source": [
    "Uh oh! Something is not right. Nothing has changed! Indeed, this is because strings are <b>immutable objects</b>. Immutable objects are objects that cannot be changed in memory. As we will see in the next chapter with lists, the other type of object is one that <i>can</i> be changed in memory. These are known as <b>mutable objects</b>. In order to change a string, therefore, you must recreate it in memory or create a new string object from it. Let's try and do that below."
   ]
  },
  {
   "cell_type": "code",
   "execution_count": 20,
   "id": "occupied-politics",
   "metadata": {},
   "outputs": [],
   "source": [
    "new_introduction = introduction.replace(\".\", \"\")"
   ]
  },
  {
   "cell_type": "code",
   "execution_count": 21,
   "id": "satisfied-sphere",
   "metadata": {},
   "outputs": [
    {
     "name": "stdout",
     "output_type": "stream",
     "text": [
      "My name is William Mattingly\n"
     ]
    }
   ],
   "source": [
    "print(new_introduction)"
   ]
  },
  {
   "cell_type": "markdown",
   "id": "16466edd-62fb-4de2-9749-023748de8a0b",
   "metadata": {},
   "source": [
    "### Split Method"
   ]
  },
  {
   "cell_type": "markdown",
   "id": "toxic-application",
   "metadata": {},
   "source": [
    "Strings have a lot of other useful methods that we will be learning about throughout this textbook, such as the `split()` method which returns a list of substrings, or smaller strings, that are split by the delimiter, which is the argument of the method. The delimiter tells Python how to split the string. By default, `split()` will split your string at the whitespace. Let's try and split the following string."
   ]
  },
  {
   "cell_type": "code",
   "execution_count": 22,
   "id": "649b08c9-5de9-4f2b-83c6-4f01f933f78f",
   "metadata": {},
   "outputs": [],
   "source": [
    "book_name = \"Harry Potter and the Chamber of Secrets\""
   ]
  },
  {
   "cell_type": "markdown",
   "id": "7c38160c-0efb-468d-a197-351d365e4502",
   "metadata": {},
   "source": [
    "As with Replace, Split is a method and, therefore, we use it with a . after the variable name."
   ]
  },
  {
   "cell_type": "code",
   "execution_count": 23,
   "id": "wooden-cross",
   "metadata": {},
   "outputs": [
    {
     "name": "stdout",
     "output_type": "stream",
     "text": [
      "['Harry', 'Potter', 'and', 'the', 'Chamber', 'of', 'Secrets']\n"
     ]
    }
   ],
   "source": [
    "print(book_name.split())"
   ]
  },
  {
   "cell_type": "markdown",
   "id": "solar-separate",
   "metadata": {},
   "source": [
    "Our book name is now split into individual words thanks to the split function's default delimiter which is the white space. Notice, however, that the delimiter vanishes from our list of substrings. In the next chapter, we will learn about data structures, such as lists. In that section, we will learn how to grab specific indices, or sections, of the list.\n",
    "\n",
    "Split can also take an argument that identifies where to split a string, e.g. something other than a whitespace. Let's say, I were interested in grabbing the subtitle of the book name. I could split the string at the \" and \"."
   ]
  },
  {
   "cell_type": "code",
   "execution_count": 24,
   "id": "behind-respondent",
   "metadata": {},
   "outputs": [
    {
     "name": "stdout",
     "output_type": "stream",
     "text": [
      "['Harry Potter', 'the Chamber of Secrets']\n"
     ]
    }
   ],
   "source": [
    "print(book_name.split(\" and \"))"
   ]
  },
  {
   "cell_type": "markdown",
   "id": "6e9aa8c4-c67a-4ca1-ad60-8efd15df9c01",
   "metadata": {},
   "source": [
    "As we can see, we have successfully separated the title from the subtitle. We will be working with strings a lot more as we progress through this textbook. You should at this point be familiar with what strings are, how to create them, and how to interact with them through some basic methods, such as upper(), lower(), capitalize(), replace(), and split()."
   ]
  },
  {
   "cell_type": "markdown",
   "id": "exotic-morrison",
   "metadata": {},
   "source": [
    "## Numbers (Integers and Floats)"
   ]
  },
  {
   "cell_type": "markdown",
   "id": "falling-relay",
   "metadata": {},
   "source": [
    "Numbers are represented in programming languages in two several ways. The two we will deal with are integers and floats.\n",
    "\n",
    "An <b>integer</b> is a digit that does not contain a decimal place, i.e. 1 or 2 or 3. This can be a number of any size, such as 100,001,200. A float, on the other hand, is a digit with a decimal place. So, while 1 is an integer, 1.0 is a float. Floats, like integers, can be of any size, but they necessarily have a decimal place, i.e. 200.0020002938. In python, you do not need any special characters to create an integer or float object. You simply need an equal sign. In the example below, we have two objects which are created with a single equal sign. These objects are titled an_integer and a_float with the former being an object that corresponds to the integer 1 and the latter being an object that corresponds to the float 1.1."
   ]
  },
  {
   "cell_type": "markdown",
   "id": "preceding-transfer",
   "metadata": {},
   "source": [
    "### Examples of Numbers"
   ]
  },
  {
   "cell_type": "code",
   "execution_count": 26,
   "id": "olympic-slovenia",
   "metadata": {},
   "outputs": [],
   "source": [
    "int1 = 1"
   ]
  },
  {
   "cell_type": "code",
   "execution_count": 27,
   "id": "cheap-register",
   "metadata": {},
   "outputs": [
    {
     "name": "stdout",
     "output_type": "stream",
     "text": [
      "1\n"
     ]
    }
   ],
   "source": [
    "print(int1)"
   ]
  },
  {
   "cell_type": "code",
   "execution_count": 28,
   "id": "southeast-membership",
   "metadata": {},
   "outputs": [],
   "source": [
    "float1 = 1.1"
   ]
  },
  {
   "cell_type": "code",
   "execution_count": null,
   "id": "later-vehicle",
   "metadata": {},
   "outputs": [
    {
     "name": "stdout",
     "output_type": "stream",
     "text": [
      "1.1\n"
     ]
    }
   ],
   "source": [
    "print (float1)"
   ]
  },
  {
   "cell_type": "markdown",
   "id": "committed-dollar",
   "metadata": {
    "tags": []
   },
   "source": [
    "## Working with Numbers as Data"
   ]
  },
  {
   "cell_type": "markdown",
   "id": "rotary-compact",
   "metadata": {},
   "source": [
    "Now that you understand how strings work, let’s begin exploring another type of data: numbers. Numbers in Python exist in two chief forms:\n",
    "\n",
    "- integers\n",
    "- floats\n",
    "\n",
    "As noted above, integers are numbers without a decimal point, whereas floats are numbers with a decimal point. This is am important distinction that you should remember, especially when working with data imported from and exported to Excel.\n",
    "\n",
    "As digital humanists, you might be thinking to yourself, “I just work with text, why should I care so much about numbers?” The answer? Numbers allow us to perform quantitative analysis. What if you wished to know the times a specific author wrote to a colleague or to which places he wrote most frequently, as was the case with the Republic of Letters project at Stanford?\n",
    "\n",
    "To perform that kind of analysis, you need a command of how numbers work in Python, how to perform basic mathematical functions on those numbers, and how to interact with them. Further, numbers are essential to understand for performing more advanced functions in Python, such as Loops, explored in Chapter 3.\n",
    "\n",
    "Throughout your DH project, you will very likely need to manipulate numbers through mathematical operations. Here is a cheatsheet of the common operations:\n",
    "\n",
    "`````{admonition} Cheatsheet for Mathematical Operations\n",
    ":class: hint\n",
    "| operation                  | code | description                         | example | result |\n",
    "|----------------------------|------|-------------------------------------|---------|--------|\n",
    "| addition                   | `+`  | adds numbers together               | `1+1`   |      2 |\n",
    "| subtraction                | `-`  | subtracts one number from another   | `1-1`   |      0 |\n",
    "| multiplication             | `*`  | multiplies two numbers              | `1*2`   |      2 |\n",
    "| exponential multiplication | `**` | performs exponential multiplication | `2**2`  |      4 |\n",
    "| division                   | `/`  | divides one number from another     | `2/2`   |      1 |\n",
    "| modulo                     | `%`  | remainder                           | `22%7`  |      1 |\n",
    "| floor                      | `//` | occurences                          | `22//7` |      3 |\n",
    "`````"
   ]
  },
  {
   "cell_type": "markdown",
   "id": "middle-article",
   "metadata": {},
   "source": [
    "The way in which you create a number object in Python is the to create an object name, use the equal sign and type the number. If your number has a decimal, Python will automatically consider it a float. If it does not, it will automatically consider it an integer. Let's create an integer and a float."
   ]
  },
  {
   "cell_type": "code",
   "execution_count": 42,
   "id": "8ccb0e71-4dc3-4872-a3d2-4cb418785d10",
   "metadata": {},
   "outputs": [
    {
     "name": "stdout",
     "output_type": "stream",
     "text": [
      "1\n"
     ]
    }
   ],
   "source": [
    "an_integer = 1\n",
    "print(an_integer)"
   ]
  },
  {
   "cell_type": "code",
   "execution_count": 43,
   "id": "6446cf9b-ebb7-46b1-a306-b8916893b50a",
   "metadata": {},
   "outputs": [
    {
     "name": "stdout",
     "output_type": "stream",
     "text": [
      "1.1\n"
     ]
    }
   ],
   "source": [
    "a_float = 1.1\n",
    "print(a_float)"
   ]
  },
  {
   "cell_type": "markdown",
   "id": "aa82a92b-22b0-4736-9cbd-6b2a421d4fac",
   "metadata": {},
   "source": [
    "In the Trinket application below, try to create a float and an integer and print each off."
   ]
  },
  {
   "cell_type": "code",
   "execution_count": 41,
   "id": "annual-somerset",
   "metadata": {},
   "outputs": [
    {
     "data": {
      "text/html": [
       "\n",
       "        <iframe\n",
       "            width=\"700\"\n",
       "            height=\"500\"\n",
       "            src=\"https://trinket.io/embed/python3/3fe4c8f3f4\"\n",
       "            frameborder=\"0\"\n",
       "            allowfullscreen\n",
       "            \n",
       "        ></iframe>\n",
       "        "
      ],
      "text/plain": [
       "<IPython.lib.display.IFrame at 0x7fed6ef10640>"
      ]
     },
     "execution_count": 41,
     "metadata": {},
     "output_type": "execute_result"
    }
   ],
   "source": [
    "IFrame('https://trinket.io/embed/python3/3fe4c8f3f4', 700, 500)"
   ]
  },
  {
   "cell_type": "markdown",
   "id": "7da93389-8557-4631-be5f-e2f2bbaab347",
   "metadata": {},
   "source": [
    "Now that you understand how to create a number in memory, let's try to add two numbers together. In the example below, we will add 1 and 1 together."
   ]
  },
  {
   "cell_type": "code",
   "execution_count": 44,
   "id": "9502c766-fdac-497f-bbd8-bd6d3b6452ec",
   "metadata": {},
   "outputs": [
    {
     "name": "stdout",
     "output_type": "stream",
     "text": [
      "2\n"
     ]
    }
   ],
   "source": [
    "print(1+1)"
   ]
  },
  {
   "cell_type": "markdown",
   "id": "b915d6c3-0bf5-4e2d-8a1a-5c7093c57e57",
   "metadata": {},
   "source": [
    "In the Trinket application above, try to perform the other mathematical operations."
   ]
  },
  {
   "cell_type": "markdown",
   "id": "improving-egyptian",
   "metadata": {},
   "source": [
    "## Booleans"
   ]
  },
  {
   "cell_type": "markdown",
   "id": "married-topic",
   "metadata": {},
   "source": [
    "The term boolean comes from Boolean algebra, which is a type of mathematics that works in binary logic. Binary is the basis for all computers, save for the more nascent quantum computers. Binary is 0 or 1; off or on; true or false. A boolean object in programming languages is either `True` or `False`. True is 1, while False is 0. In Python we can express these concepts with capitalized T or F in True or False. Let's make one such object now."
   ]
  },
  {
   "cell_type": "markdown",
   "id": "connected-registrar",
   "metadata": {},
   "source": [
    "### Examples of Booleans"
   ]
  },
  {
   "cell_type": "code",
   "execution_count": 45,
   "id": "funny-belize",
   "metadata": {},
   "outputs": [],
   "source": [
    "bool1 = True"
   ]
  },
  {
   "cell_type": "code",
   "execution_count": 48,
   "id": "outdoor-canada",
   "metadata": {},
   "outputs": [
    {
     "name": "stdout",
     "output_type": "stream",
     "text": [
      "True\n"
     ]
    }
   ],
   "source": [
    "print(bool1)"
   ]
  },
  {
   "cell_type": "markdown",
   "id": "reliable-catalog",
   "metadata": {},
   "source": [
    "## Conclusion"
   ]
  },
  {
   "cell_type": "markdown",
   "id": "designing-relation",
   "metadata": {},
   "source": [
    "This chapter has introduced you two some of the essential types of data: strings, integers, floats, and booleans. It has also introduced you to some of the key methods and operations that you can perform on strings and numbers. Before moving onto the next chapter, I recommend spending some time and testing out these methods on your own data. Try and manipulate an input text to locate and retrieve specific information."
   ]
  },
  {
   "cell_type": "markdown",
   "id": "240abc11-41c3-4d3e-bc87-45b3c93025c8",
   "metadata": {},
   "source": [
    "## Challenge Questions"
   ]
  },
  {
   "cell_type": "markdown",
   "id": "cb042f66-e5b4-466e-a599-ad57e1981b3e",
   "metadata": {},
   "source": [
    "What would be the output of the command below?"
   ]
  },
  {
   "cell_type": "code",
   "execution_count": 18,
   "id": "f18e5a4a-4813-4630-9ffb-e4eda770d2a5",
   "metadata": {
    "tags": [
     "hide-output"
    ]
   },
   "outputs": [
    {
     "data": {
      "text/plain": [
       "str"
      ]
     },
     "execution_count": 18,
     "metadata": {},
     "output_type": "execute_result"
    }
   ],
   "source": [
    "type('What type of data is this?')"
   ]
  },
  {
   "cell_type": "markdown",
   "id": "957e6150-2775-4d95-99c2-2edd52495007",
   "metadata": {},
   "source": [
    "What about this?"
   ]
  },
  {
   "cell_type": "code",
   "execution_count": 19,
   "id": "10178f9e-db03-4871-bf0e-8cf0c81b39da",
   "metadata": {
    "tags": [
     "hide-output"
    ]
   },
   "outputs": [
    {
     "ename": "SyntaxError",
     "evalue": "EOL while scanning string literal (2127757825.py, line 1)",
     "output_type": "error",
     "traceback": [
      "\u001b[1;36m  Input \u001b[1;32mIn [19]\u001b[1;36m\u001b[0m\n\u001b[1;33m    print(\"Hello, world!')\u001b[0m\n\u001b[1;37m                          ^\u001b[0m\n\u001b[1;31mSyntaxError\u001b[0m\u001b[1;31m:\u001b[0m EOL while scanning string literal\n"
     ]
    }
   ],
   "source": [
    "print(\"Hello, world!')"
   ]
  },
  {
   "cell_type": "markdown",
   "id": "34db6699-71c9-4fca-8cb6-7f4d2cc873cd",
   "metadata": {},
   "source": [
    "And what about this?"
   ]
  },
  {
   "cell_type": "code",
   "execution_count": 21,
   "id": "fc82f416-b6e0-4968-a668-671ed1d30d24",
   "metadata": {
    "tags": [
     "hide-output"
    ]
   },
   "outputs": [
    {
     "name": "stdout",
     "output_type": "stream",
     "text": [
      "john\n"
     ]
    }
   ],
   "source": [
    "person = \"John\"\n",
    "person = person.lower()\n",
    "person2 = person\n",
    "person = person.upper()\n",
    "print(person2)"
   ]
  },
  {
   "cell_type": "markdown",
   "id": "40b6fbd5-0667-4577-8eb0-d363a1bdd8e1",
   "metadata": {},
   "source": [
    "Expand below to see why the output looks the way it does."
   ]
  },
  {
   "cell_type": "markdown",
   "id": "b0ca6910-3731-4cf7-9b3b-5bafba450749",
   "metadata": {
    "tags": [
     "hide-input",
     "hide-cell"
    ]
   },
   "source": [
    "If you did not get this right, let's talk about why. Remember, programming is a sequential set of operations.\n",
    "\n",
    "| Number | Line      | Meaning |\n",
    "| -- | ----------- | ----------- |\n",
    "| 1| person = \"John\" | establishes that the variable is a string and that it is \"John\" |\n",
    "| 2| person = person.lower() | this will lowercase the string so at this stage, it would be \"john\" |\n",
    "| 3| person2 = person | this creates person2 as a variable and points it to person |\n",
    "|4| person = person.upper() | this changes the person variable and uppercases it. The variable person2, however, remains the same|"
   ]
  },
  {
   "cell_type": "markdown",
   "id": "93ce0ac6-253a-489d-ba14-d2b0963e1316",
   "metadata": {},
   "source": [
    "## Quiz"
   ]
  },
  {
   "cell_type": "code",
   "execution_count": 53,
   "id": "528555be-0a24-40b7-b7c9-f39cb808c2b0",
   "metadata": {
    "tags": [
     "hide",
     "remove_cell"
    ]
   },
   "outputs": [],
   "source": [
    "from jupyterquiz import display_quiz\n",
    "import md2json\n",
    "import json"
   ]
  },
  {
   "cell_type": "code",
   "execution_count": 57,
   "id": "6e9dae9f-dd6b-4ca3-a6dd-74f3b125174a",
   "metadata": {
    "tags": [
     "remove_cell"
    ]
   },
   "outputs": [],
   "source": [
    "quiz = '''\n",
    "# What type of data is associated with text?\n",
    "mc\n",
    "* Strings\n",
    "-c t\n",
    "-f Correct! Strings are how we create text in Python.\n",
    "\n",
    "* Integers\n",
    "-c f\n",
    "-f While a type of data, Integers are not text\n",
    "\n",
    "* Floats\n",
    "-c f\n",
    "-f While a type of data, Floats are not text\n",
    "\n",
    "* Boolean\n",
    "-c f\n",
    "-f Booleans are not text.\n",
    "\n",
    "\n",
    "# How do we create strings?\n",
    "mc\n",
    "* With \"\"\n",
    "-c t\n",
    "-f Correct!\n",
    "\n",
    "* With ''\n",
    "-c t\n",
    "-f Correct!\n",
    "\n",
    "* With :\n",
    "-c f\n",
    "-f\n",
    "\n",
    "* With <>\n",
    "-c f\n",
    "-f\n",
    "\n",
    "# What are the two types of numbers?\n",
    "mc\n",
    "* Integers\n",
    "-c t\n",
    "-f\n",
    "\n",
    "* Floats\n",
    "-c t\n",
    "-f\n",
    "\n",
    "* Strings\n",
    "-c f\n",
    "-f\n",
    "\n",
    "* Booleans\n",
    "-c f\n",
    "-f\n",
    "\n",
    "# What are the types of Booleans?\n",
    "mc\n",
    "* True\n",
    "-c t\n",
    "-f\n",
    "\n",
    "* False\n",
    "-c t\n",
    "-f\n",
    "\n",
    "* true\n",
    "-c f\n",
    "-f Close. Remember, case matters in Python.\n",
    "\n",
    "* false\n",
    "-c f\n",
    "-f Close. Remember, case matters in Python.\n",
    "'''"
   ]
  },
  {
   "cell_type": "code",
   "execution_count": 58,
   "id": "53d344eb-b1f4-4dbd-8a2c-b9aacef3897d",
   "metadata": {
    "tags": [
     "remove_input"
    ]
   },
   "outputs": [
    {
     "name": "stdout",
     "output_type": "stream",
     "text": [
      "\n"
     ]
    },
    {
     "data": {
      "text/html": [
       "<div id=\"DvQdJgepeSpt\" data-shufflequestions=\"False\"\n",
       "               data-shuffleanswers=\"True\"\n",
       "               data-numquestions=\"1000000\"> <style>:root {\n",
       "    --medium-slate-blue: #6f78ffff;\n",
       "    --orange-pantone: #f75c03ff;\n",
       "    --russian-violet: #392061ff;\n",
       "    --maximum-yellow-red: #ffc857ff;\n",
       "    --viridian-green: #119da4ff;\n",
       "    --incorrect-red: #c80202;\n",
       "    --correct-green: #009113;\n",
       "}\n",
       "\n",
       ".Quiz {\n",
       "    max-width: 600px;\n",
       "    margin-top: 15px;\n",
       "    margin-left: auto;\n",
       "    margin-right: auto;\n",
       "    margin-bottom: 15px;\n",
       "    padding-bottom: 4px;\n",
       "    padding-top: 4px;\n",
       "    line-height: 1.1;\n",
       "    font-size: 16pt;\n",
       "}\n",
       "\n",
       ".QuizCode {\n",
       "    font-size: 14pt;\n",
       "    margin-top: 10px;\n",
       "    margin-left: 20px;\n",
       "    margin-right: 20px;\n",
       "}\n",
       "\n",
       ".QuizCode>pre {\n",
       "    padding: 4px;\n",
       "}\n",
       "\n",
       ".Answer {\n",
       "    margin: 10px 0;\n",
       "    display: grid;\n",
       "    grid-template-columns: auto auto;\n",
       "    grid-gap: 10px;\n",
       "}\n",
       "\n",
       ".Feedback {\n",
       "    font-size: 16pt;\n",
       "    text-align: center;\n",
       "    min-height: 2em;\n",
       "}\n",
       "\n",
       ".Input {\n",
       "    align: left;\n",
       "    font-size: 20pt;\n",
       "}\n",
       "\n",
       ".Input-text {\n",
       "    display: block;\n",
       "    margin: 10px;\n",
       "    color: inherit;\n",
       "    width: 140px;\n",
       "    background-color: #c0c0c0;\n",
       "    color: #fff;\n",
       "    padding: 5px;\n",
       "    padding-left: 10px;\n",
       "    font-family: inherit;\n",
       "    font-size: 20px;\n",
       "    font-weight: inherit;\n",
       "    line-height: 20pt;\n",
       "    border: none;\n",
       "    border-radius: 0.2rem;\n",
       "    transition: box-shadow 0.1s);\n",
       "}\n",
       "\n",
       ".Input-text:focus {\n",
       "    outline: none;\n",
       "    background-color: #c0c0c0;\n",
       "    box-shadow: 0.6rem 0.8rem 1.4rem -0.5rem #999999;\n",
       "}\n",
       "\n",
       ".MCButton {\n",
       "    background: #fafafa;\n",
       "    border: 1px solid #eee;\n",
       "    border-radius: 10px;\n",
       "    padding: 10px;\n",
       "    font-size: 16px;\n",
       "    cursor: pointer;\n",
       "    text-align: center;\n",
       "}\n",
       "\n",
       ".MCButton p {\n",
       "    color: inherit;\n",
       "}\n",
       "\n",
       ".MultipleChoiceQn {\n",
       "    padding: 10px;\n",
       "    background: var(--medium-slate-blue);\n",
       "    color: #fafafa;\n",
       "    border-radius: 10px;\n",
       "}\n",
       "\n",
       ".ManyChoiceQn {\n",
       "    padding: 10px;\n",
       "    background: var(--orange-pantone);\n",
       "    color: #fafafa;\n",
       "    border-radius: 10px;\n",
       "}\n",
       "\n",
       ".NumericQn {\n",
       "    padding: 10px;\n",
       "    background: var(--russian-violet);\n",
       "    color: #fafafa;\n",
       "    border-radius: 10px;\n",
       "}\n",
       "\n",
       ".NumericQn p {\n",
       "    color: inherit;\n",
       "}\n",
       "\n",
       ".InpLabel {\n",
       "    line-height: 34px;\n",
       "    float: left;\n",
       "    margin-right: 10px;\n",
       "    color: #101010;\n",
       "    font-size: 15pt;\n",
       "}\n",
       "\n",
       ".incorrect {\n",
       "    color: var(--incorrect-red);\n",
       "}\n",
       "\n",
       ".correct {\n",
       "    color: var(--correct-green);\n",
       "}\n",
       "\n",
       ".correctButton {\n",
       "    /*\n",
       "    background: var(--correct-green);\n",
       "   */\n",
       "    animation: correct-anim 0.6s ease;\n",
       "    animation-fill-mode: forwards;\n",
       "    color: #fafafa;\n",
       "    box-shadow: inset 0px 0px 5px #555555;\n",
       "    outline: none;\n",
       "}\n",
       "\n",
       ".incorrectButton {\n",
       "    animation: incorrect-anim 0.8s ease;\n",
       "    animation-fill-mode: forwards;\n",
       "    color: #fafafa;\n",
       "    box-shadow: inset 0px 0px 5px #555555;\n",
       "    outline: none;\n",
       "}\n",
       "\n",
       "@keyframes incorrect-anim {\n",
       "    100% {\n",
       "        background-color: var(--incorrect-red);\n",
       "    }\n",
       "}\n",
       "\n",
       "@keyframes correct-anim {\n",
       "    100% {\n",
       "        background-color: var(--correct-green);\n",
       "    }\n",
       "}</style><script type=\"text/Javascript\">var questionsDvQdJgepeSpt=[{\"question\": \"How do we create strings?\", \"type\": \"many_choice\", \"answers\": [{\"answer\": \"With \\\"\\\"\", \"correct\": true, \"feedback\": \"Correct!\"}, {\"answer\": \"With ''\", \"correct\": true, \"feedback\": \"Correct!\"}, {\"answer\": \"With :\", \"correct\": false, \"feedback\": \"Incorrect.\"}, {\"answer\": \"With <>\", \"correct\": false, \"feedback\": \"Incorrect.\"}]}, {\"question\": \"What are the two types of numbers?\", \"type\": \"many_choice\", \"answers\": [{\"answer\": \"Integers\", \"correct\": true, \"feedback\": \"Correct!\"}, {\"answer\": \"Floats\", \"correct\": true, \"feedback\": \"Correct!\"}, {\"answer\": \"Strings\", \"correct\": false, \"feedback\": \"Incorrect.\"}, {\"answer\": \"Booleans\", \"correct\": false, \"feedback\": \"Incorrect.\"}]}, {\"question\": \"What type of data is associated with text?\", \"type\": \"multiple_choice\", \"answers\": [{\"answer\": \"Strings\", \"correct\": true, \"feedback\": \"Correct! Strings are how we create text in Python.\"}, {\"answer\": \"Integers\", \"correct\": false, \"feedback\": \"While a type of data, Integers are not text\"}, {\"answer\": \"Floats\", \"correct\": false, \"feedback\": \"While a type of data, Floats are not text\"}, {\"answer\": \"Boolean\", \"correct\": false, \"feedback\": \"Booleans are not text.\"}]}, {\"question\": \"What are the types of Booleans?\", \"type\": \"many_choice\", \"answers\": [{\"answer\": \"True\", \"correct\": true, \"feedback\": \"Correct!\"}, {\"answer\": \"False\", \"correct\": true, \"feedback\": \"Correct!\"}, {\"answer\": \"true\", \"correct\": false, \"feedback\": \"Close. Remember, case matters in Python.\"}, {\"answer\": \"false\", \"correct\": false, \"feedback\": \"Close. Remember, case matters in Python.\"}]}];\n",
       "    // Make a random ID\n",
       "function makeid(length) {\n",
       "    var result = [];\n",
       "    var characters = 'ABCDEFGHIJKLMNOPQRSTUVWXYZabcdefghijklmnopqrstuvwxyz';\n",
       "    var charactersLength = characters.length;\n",
       "    for (var i = 0; i < length; i++) {\n",
       "        result.push(characters.charAt(Math.floor(Math.random() * charactersLength)));\n",
       "    }\n",
       "    return result.join('');\n",
       "}\n",
       "\n",
       "// Choose a random subset of an array. Can also be used to shuffle the array\n",
       "function getRandomSubarray(arr, size) {\n",
       "    var shuffled = arr.slice(0), i = arr.length, temp, index;\n",
       "    while (i--) {\n",
       "        index = Math.floor((i + 1) * Math.random());\n",
       "        temp = shuffled[index];\n",
       "        shuffled[index] = shuffled[i];\n",
       "        shuffled[i] = temp;\n",
       "    }\n",
       "    return shuffled.slice(0, size);\n",
       "}\n",
       "function check_mc() {\n",
       "    var id = this.id.split('-')[0];\n",
       "\n",
       "    //console.log(\"In check_mc(), id=\"+id);\n",
       "    //console.log(event.srcElement.id)           \n",
       "    //console.log(event.srcElement.dataset.correct)   \n",
       "    //console.log(event.srcElement.dataset.feedback)\n",
       "\n",
       "    var label = event.srcElement;\n",
       "    //console.log(label, label.nodeName);\n",
       "    var depth = 0;\n",
       "    while ((label.nodeName != \"LABEL\") && (depth < 20)) {\n",
       "        label = label.parentElement;\n",
       "        console.log(depth, label);\n",
       "        depth++;\n",
       "    }\n",
       "\n",
       "\n",
       "\n",
       "    var answers = label.parentElement.children;\n",
       "\n",
       "    //console.log(answers);\n",
       "\n",
       "\n",
       "    // Split behavior based on multiple choice vs many choice:\n",
       "    var fb = document.getElementById(\"fb\" + id);\n",
       "    //console.log(id, \", got numcorrect=\",fb.dataset.numcorrect);\n",
       "    if (fb.dataset.numcorrect == 1) {\n",
       "        for (var i = 0; i < answers.length; i++) {\n",
       "            var child = answers[i];\n",
       "            //console.log(child);\n",
       "            child.className = \"MCButton\";\n",
       "        }\n",
       "\n",
       "\n",
       "\n",
       "        if (label.dataset.correct == \"true\") {\n",
       "            // console.log(\"Correct action\");\n",
       "            if (\"feedback\" in label.dataset) {\n",
       "                fb.textContent = jaxify(label.dataset.feedback);\n",
       "            } else {\n",
       "                fb.textContent = \"Correct!\";\n",
       "            }\n",
       "            label.classList.add(\"correctButton\");\n",
       "\n",
       "            fb.className = \"Feedback\";\n",
       "            fb.classList.add(\"correct\");\n",
       "\n",
       "        } else {\n",
       "            if (\"feedback\" in label.dataset) {\n",
       "                fb.textContent = jaxify(label.dataset.feedback);\n",
       "            } else {\n",
       "                fb.textContent = \"Incorrect -- try again.\";\n",
       "            }\n",
       "            //console.log(\"Error action\");\n",
       "            label.classList.add(\"incorrectButton\");\n",
       "            fb.className = \"Feedback\";\n",
       "            fb.classList.add(\"incorrect\");\n",
       "        }\n",
       "    }\n",
       "    else {\n",
       "        var reset = false;\n",
       "        var feedback;\n",
       "        if (label.dataset.correct == \"true\") {\n",
       "            if (\"feedback\" in label.dataset) {\n",
       "                feedback = jaxify(label.dataset.feedback);\n",
       "            } else {\n",
       "                feedback = \"Correct!\";\n",
       "            }\n",
       "            if (label.dataset.answered <= 0) {\n",
       "                if (fb.dataset.answeredcorrect < 0) {\n",
       "                    fb.dataset.answeredcorrect = 1;\n",
       "                    reset = true;\n",
       "                } else {\n",
       "                    fb.dataset.answeredcorrect++;\n",
       "                }\n",
       "                if (reset) {\n",
       "                    for (var i = 0; i < answers.length; i++) {\n",
       "                        var child = answers[i];\n",
       "                        child.className = \"MCButton\";\n",
       "                        child.dataset.answered = 0;\n",
       "                    }\n",
       "                }\n",
       "                label.classList.add(\"correctButton\");\n",
       "                label.dataset.answered = 1;\n",
       "                fb.className = \"Feedback\";\n",
       "                fb.classList.add(\"correct\");\n",
       "\n",
       "            }\n",
       "        } else {\n",
       "            if (\"feedback\" in label.dataset) {\n",
       "                feedback = jaxify(label.dataset.feedback);\n",
       "            } else {\n",
       "                feedback = \"Incorrect -- try again.\";\n",
       "            }\n",
       "            if (fb.dataset.answeredcorrect > 0) {\n",
       "                fb.dataset.answeredcorrect = -1;\n",
       "                reset = true;\n",
       "            } else {\n",
       "                fb.dataset.answeredcorrect--;\n",
       "            }\n",
       "\n",
       "            if (reset) {\n",
       "                for (var i = 0; i < answers.length; i++) {\n",
       "                    var child = answers[i];\n",
       "                    child.className = \"MCButton\";\n",
       "                    child.dataset.answered = 0;\n",
       "                }\n",
       "            }\n",
       "            label.classList.add(\"incorrectButton\");\n",
       "            fb.className = \"Feedback\";\n",
       "            fb.classList.add(\"incorrect\");\n",
       "        }\n",
       "\n",
       "\n",
       "        var numcorrect = fb.dataset.numcorrect;\n",
       "        var answeredcorrect = fb.dataset.answeredcorrect;\n",
       "        if (answeredcorrect >= 0) {\n",
       "            fb.textContent = feedback + \" [\" + answeredcorrect + \"/\" + numcorrect + \"]\";\n",
       "        } else {\n",
       "            fb.textContent = feedback + \" [\" + 0 + \"/\" + numcorrect + \"]\";\n",
       "        }\n",
       "\n",
       "\n",
       "    }\n",
       "\n",
       "    if (typeof MathJax != 'undefined') {\n",
       "        var version = MathJax.version;\n",
       "        console.log('MathJax version', version);\n",
       "        if (version[0] == \"2\") {\n",
       "            MathJax.Hub.Queue([\"Typeset\", MathJax.Hub]);\n",
       "        } else if (version[0] == \"3\") {\n",
       "            MathJax.typeset([fb]);\n",
       "        }\n",
       "    } else {\n",
       "        console.log('MathJax not detected');\n",
       "    }\n",
       "\n",
       "}\n",
       "\n",
       "function make_mc(qa, shuffle_answers, outerqDiv, qDiv, aDiv, id) {\n",
       "    var shuffled;\n",
       "    if (shuffle_answers == \"True\") {\n",
       "        //console.log(shuffle_answers+\" read as true\");\n",
       "        shuffled = getRandomSubarray(qa.answers, qa.answers.length);\n",
       "    } else {\n",
       "        //console.log(shuffle_answers+\" read as false\");\n",
       "        shuffled = qa.answers;\n",
       "    }\n",
       "\n",
       "\n",
       "    var num_correct = 0;\n",
       "\n",
       "\n",
       "\n",
       "    shuffled.forEach((item, index, ans_array) => {\n",
       "        //console.log(answer);\n",
       "\n",
       "        // Make input element\n",
       "        var inp = document.createElement(\"input\");\n",
       "        inp.type = \"radio\";\n",
       "        inp.id = \"quizo\" + id + index;\n",
       "        inp.style = \"display:none;\";\n",
       "        aDiv.append(inp);\n",
       "\n",
       "        //Make label for input element\n",
       "        var lab = document.createElement(\"label\");\n",
       "        lab.className = \"MCButton\";\n",
       "        lab.id = id + '-' + index;\n",
       "        lab.onclick = check_mc;\n",
       "        var aSpan = document.createElement('span');\n",
       "        aSpan.classsName = \"\";\n",
       "        //qDiv.id=\"quizQn\"+id+index;\n",
       "        if (\"answer\" in item) {\n",
       "            aSpan.innerHTML = jaxify(item.answer);\n",
       "            //aSpan.innerHTML=item.answer;\n",
       "        }\n",
       "        lab.append(aSpan);\n",
       "\n",
       "        // Create div for code inside question\n",
       "        var codeSpan;\n",
       "        if (\"code\" in item) {\n",
       "            codeSpan = document.createElement('span');\n",
       "            codeSpan.id = \"code\" + id + index;\n",
       "            codeSpan.className = \"QuizCode\";\n",
       "            var codePre = document.createElement('pre');\n",
       "            codeSpan.append(codePre);\n",
       "            var codeCode = document.createElement('code');\n",
       "            codePre.append(codeCode);\n",
       "            codeCode.innerHTML = item.code;\n",
       "            lab.append(codeSpan);\n",
       "            //console.log(codeSpan);\n",
       "        }\n",
       "\n",
       "        //lab.textContent=item.answer;\n",
       "\n",
       "        // Set the data attributes for the answer\n",
       "        lab.setAttribute('data-correct', item.correct);\n",
       "        if (item.correct) {\n",
       "            num_correct++;\n",
       "        }\n",
       "        if (\"feedback\" in item) {\n",
       "            lab.setAttribute('data-feedback', item.feedback);\n",
       "        }\n",
       "        lab.setAttribute('data-answered', 0);\n",
       "\n",
       "        aDiv.append(lab);\n",
       "\n",
       "    });\n",
       "\n",
       "    if (num_correct > 1) {\n",
       "        outerqDiv.className = \"ManyChoiceQn\";\n",
       "    } else {\n",
       "        outerqDiv.className = \"MultipleChoiceQn\";\n",
       "    }\n",
       "\n",
       "    return num_correct;\n",
       "\n",
       "}\n",
       "function check_numeric(ths, event) {\n",
       "\n",
       "    if (event.keyCode === 13) {\n",
       "        ths.blur();\n",
       "\n",
       "        var id = ths.id.split('-')[0];\n",
       "\n",
       "        var submission = ths.value;\n",
       "        if (submission.indexOf('/') != -1) {\n",
       "            sub_parts = submission.split('/');\n",
       "            //console.log(sub_parts);\n",
       "            submission = sub_parts[0] / sub_parts[1];\n",
       "        }\n",
       "        //console.log(\"Reader entered\", submission);\n",
       "\n",
       "        if (\"precision\" in ths.dataset) {\n",
       "            precision = ths.dataset.precision;\n",
       "            // console.log(\"1:\", submission)\n",
       "            submission = Math.round((1 * submission + Number.EPSILON) * 10 ** precision) / 10 ** precision;\n",
       "            // console.log(\"Rounded to \", submission, \" precision=\", precision  );\n",
       "        }\n",
       "\n",
       "\n",
       "        //console.log(\"In check_numeric(), id=\"+id);\n",
       "        //console.log(event.srcElement.id)           \n",
       "        //console.log(event.srcElement.dataset.feedback)\n",
       "\n",
       "        var fb = document.getElementById(\"fb\" + id);\n",
       "        fb.style.display = \"none\";\n",
       "        fb.textContent = \"Incorrect -- try again.\";\n",
       "\n",
       "        answers = JSON.parse(ths.dataset.answers);\n",
       "        //console.log(answers);\n",
       "\n",
       "        var defaultFB = \"\";\n",
       "        var correct;\n",
       "        var done = false;\n",
       "        answers.every(answer => {\n",
       "            //console.log(answer.type);\n",
       "\n",
       "            correct = false;\n",
       "            // if (answer.type==\"value\"){\n",
       "            if ('value' in answer) {\n",
       "                if (submission == answer.value) {\n",
       "                    fb.textContent = jaxify(answer.feedback);\n",
       "                    correct = answer.correct;\n",
       "                    //console.log(answer.correct);\n",
       "                    done = true;\n",
       "                }\n",
       "                // } else if (answer.type==\"range\") {\n",
       "            } else if ('range' in answer) {\n",
       "                //console.log(answer.range);\n",
       "                if ((submission >= answer.range[0]) && (submission < answer.range[1])) {\n",
       "                    fb.textContent = jaxify(answer.feedback);\n",
       "                    correct = answer.correct;\n",
       "                    //console.log(answer.correct);\n",
       "                    done = true;\n",
       "                }\n",
       "            } else if (answer.type == \"default\") {\n",
       "                defaultFB = answer.feedback;\n",
       "            }\n",
       "            if (done) {\n",
       "                return false; // Break out of loop if this has been marked correct\n",
       "            } else {\n",
       "                return true; // Keep looking for case that includes this as a correct answer\n",
       "            }\n",
       "        });\n",
       "\n",
       "        if ((!done) && (defaultFB != \"\")) {\n",
       "            fb.innerHTML = jaxify(defaultFB);\n",
       "            //console.log(\"Default feedback\", defaultFB);\n",
       "        }\n",
       "\n",
       "        fb.style.display = \"block\";\n",
       "        if (correct) {\n",
       "            ths.className = \"Input-text\";\n",
       "            ths.classList.add(\"correctButton\");\n",
       "            fb.className = \"Feedback\";\n",
       "            fb.classList.add(\"correct\");\n",
       "        } else {\n",
       "            ths.className = \"Input-text\";\n",
       "            ths.classList.add(\"incorrectButton\");\n",
       "            fb.className = \"Feedback\";\n",
       "            fb.classList.add(\"incorrect\");\n",
       "        }\n",
       "        if (typeof MathJax != 'undefined') {\n",
       "            var version = MathJax.version;\n",
       "            console.log('MathJax version', version);\n",
       "            if (version[0] == \"2\") {\n",
       "                MathJax.Hub.Queue([\"Typeset\", MathJax.Hub]);\n",
       "            } else if (version[0] == \"3\") {\n",
       "                MathJax.typeset([fb]);\n",
       "            }\n",
       "        } else {\n",
       "            console.log('MathJax not detected');\n",
       "        }\n",
       "        return false;\n",
       "    }\n",
       "\n",
       "}\n",
       "\n",
       "function isValid(el, charC) {\n",
       "    //console.log(\"Input char: \", charC);\n",
       "    if (charC == 46) {\n",
       "        if (el.value.indexOf('.') === -1) {\n",
       "            return true;\n",
       "        } else if (el.value.indexOf('/') != -1) {\n",
       "            parts = el.value.split('/');\n",
       "            if (parts[1].indexOf('.') === -1) {\n",
       "                return true;\n",
       "            }\n",
       "        }\n",
       "        else {\n",
       "            return false;\n",
       "        }\n",
       "    } else if (charC == 47) {\n",
       "        if (el.value.indexOf('/') === -1) {\n",
       "            if ((el.value != \"\") && (el.value != \".\")) {\n",
       "                return true;\n",
       "            } else {\n",
       "                return false;\n",
       "            }\n",
       "        } else {\n",
       "            return false;\n",
       "        }\n",
       "    } else if (charC == 45) {\n",
       "        edex = el.value.indexOf('e');\n",
       "        if (edex == -1) {\n",
       "            edex = el.value.indexOf('E');\n",
       "        }\n",
       "\n",
       "        if (el.value == \"\") {\n",
       "            return true;\n",
       "        } else if (edex == (el.value.length - 1)) { // If just after e or E\n",
       "            return true;\n",
       "        } else {\n",
       "            return false;\n",
       "        }\n",
       "    } else if (charC == 101) { // \"e\"\n",
       "        if ((el.value.indexOf('e') === -1) && (el.value.indexOf('E') === -1) && (el.value.indexOf('/') == -1)) {\n",
       "            // Prev symbol must be digit or decimal point:\n",
       "            if (el.value.slice(-1).search(/\\d/) >= 0) {\n",
       "                return true;\n",
       "            } else if (el.value.slice(-1).search(/\\./) >= 0) {\n",
       "                return true;\n",
       "            } else {\n",
       "                return false;\n",
       "            }\n",
       "        } else {\n",
       "            return false;\n",
       "        }\n",
       "    } else {\n",
       "        if (charC > 31 && (charC < 48 || charC > 57))\n",
       "            return false;\n",
       "    }\n",
       "    return true;\n",
       "}\n",
       "\n",
       "function numeric_keypress(evnt) {\n",
       "    var charC = (evnt.which) ? evnt.which : evnt.keyCode;\n",
       "\n",
       "    if (charC == 13) {\n",
       "        check_numeric(this, evnt);\n",
       "    } else {\n",
       "        return isValid(this, charC);\n",
       "    }\n",
       "}\n",
       "\n",
       "\n",
       "\n",
       "\n",
       "\n",
       "function make_numeric(qa, outerqDiv, qDiv, aDiv, id) {\n",
       "\n",
       "\n",
       "\n",
       "    //console.log(answer);\n",
       "\n",
       "\n",
       "    outerqDiv.className = \"NumericQn\";\n",
       "    aDiv.style.display = 'block';\n",
       "\n",
       "    var lab = document.createElement(\"label\");\n",
       "    lab.className = \"InpLabel\";\n",
       "    lab.textContent = \"Type numeric answer here:\";\n",
       "    aDiv.append(lab);\n",
       "\n",
       "    var inp = document.createElement(\"input\");\n",
       "    inp.type = \"text\";\n",
       "    //inp.id=\"input-\"+id;\n",
       "    inp.id = id + \"-0\";\n",
       "    inp.className = \"Input-text\";\n",
       "    inp.setAttribute('data-answers', JSON.stringify(qa.answers));\n",
       "    if (\"precision\" in qa) {\n",
       "        inp.setAttribute('data-precision', qa.precision);\n",
       "    }\n",
       "    aDiv.append(inp);\n",
       "    //console.log(inp);\n",
       "\n",
       "    //inp.addEventListener(\"keypress\", check_numeric);\n",
       "    //inp.addEventListener(\"keypress\", numeric_keypress);\n",
       "    /*\n",
       "    inp.addEventListener(\"keypress\", function(event) {\n",
       "        return numeric_keypress(this, event);\n",
       "    }\n",
       "                        );\n",
       "                        */\n",
       "    //inp.onkeypress=\"return numeric_keypress(this, event)\";\n",
       "    inp.onkeypress = numeric_keypress;\n",
       "    inp.onpaste = event => false;\n",
       "\n",
       "    inp.addEventListener(\"focus\", function (event) {\n",
       "        this.value = \"\";\n",
       "        return false;\n",
       "    }\n",
       "    );\n",
       "\n",
       "\n",
       "}\n",
       "function jaxify(string) {\n",
       "    var mystring = string;\n",
       "\n",
       "    count = 0;\n",
       "    var loc = mystring.search(/([^\\\\]|^)(\\$)/);\n",
       "\n",
       "    count2 = 0;\n",
       "    var loc2 = mystring.search(/([^\\\\]|^)(\\$\\$)/);\n",
       "\n",
       "    //console.log(loc);\n",
       "\n",
       "    while ((loc >= 0) || (loc2 >= 0)) {\n",
       "\n",
       "        /* Have to replace all the double $$ first with current implementation */\n",
       "        if (loc2 >= 0) {\n",
       "            if (count2 % 2 == 0) {\n",
       "                mystring = mystring.replace(/([^\\\\]|^)(\\$\\$)/, \"$1\\\\[\");\n",
       "            } else {\n",
       "                mystring = mystring.replace(/([^\\\\]|^)(\\$\\$)/, \"$1\\\\]\");\n",
       "            }\n",
       "            count2++;\n",
       "        } else {\n",
       "            if (count % 2 == 0) {\n",
       "                mystring = mystring.replace(/([^\\\\]|^)(\\$)/, \"$1\\\\(\");\n",
       "            } else {\n",
       "                mystring = mystring.replace(/([^\\\\]|^)(\\$)/, \"$1\\\\)\");\n",
       "            }\n",
       "            count++;\n",
       "        }\n",
       "        loc = mystring.search(/([^\\\\]|^)(\\$)/);\n",
       "        loc2 = mystring.search(/([^\\\\]|^)(\\$\\$)/);\n",
       "        //console.log(mystring,\", loc:\",loc,\", loc2:\",loc2);\n",
       "    }\n",
       "\n",
       "    //console.log(mystring);\n",
       "    return mystring;\n",
       "}\n",
       "\n",
       "\n",
       "function show_questions(json, mydiv) {\n",
       "    //var mydiv=document.getElementById(myid);\n",
       "    var shuffle_questions = mydiv.dataset.shufflequestions;\n",
       "    var num_questions = mydiv.dataset.numquestions;\n",
       "    var shuffle_answers = mydiv.dataset.shuffleanswers;\n",
       "\n",
       "    if (num_questions > json.length) {\n",
       "        num_questions = json.length;\n",
       "    }\n",
       "\n",
       "    var questions;\n",
       "    if ((num_questions < json.length) || (shuffle_questions == \"True\")) {\n",
       "        //console.log(num_questions+\",\"+json.length);\n",
       "        questions = getRandomSubarray(json, num_questions);\n",
       "    } else {\n",
       "        questions = json;\n",
       "    }\n",
       "\n",
       "    //console.log(\"SQ: \"+shuffle_questions+\", NQ: \" + num_questions + \", SA: \", shuffle_answers);\n",
       "\n",
       "    // Iterate over questions\n",
       "    questions.forEach((qa, index, array) => {\n",
       "        //console.log(qa.question); \n",
       "\n",
       "        var id = makeid(8);\n",
       "        //console.log(id);\n",
       "\n",
       "\n",
       "        // Create Div to contain question and answers\n",
       "        var iDiv = document.createElement('div');\n",
       "        iDiv.id = 'quizWrap' + id + index;\n",
       "        iDiv.className = 'Quiz';\n",
       "        mydiv.appendChild(iDiv);\n",
       "        // iDiv.innerHTML=qa.question;\n",
       "\n",
       "        var outerqDiv = document.createElement('div');\n",
       "        outerqDiv.id = \"OuterquizQn\" + id + index;\n",
       "        //qDiv.textContent=qa.question;\n",
       "        iDiv.append(outerqDiv);\n",
       "\n",
       "        // Create div to contain question part\n",
       "        var qDiv = document.createElement('div');\n",
       "        qDiv.id = \"quizQn\" + id + index;\n",
       "        //qDiv.textContent=qa.question;\n",
       "        qDiv.innerHTML = jaxify(qa.question);\n",
       "        outerqDiv.append(qDiv);\n",
       "\n",
       "        // Create div for code inside question\n",
       "        var codeDiv;\n",
       "        if (\"code\" in qa) {\n",
       "            codeDiv = document.createElement('div');\n",
       "            codeDiv.id = \"code\" + id + index;\n",
       "            codeDiv.className = \"QuizCode\";\n",
       "            var codePre = document.createElement('pre');\n",
       "            codeDiv.append(codePre);\n",
       "            var codeCode = document.createElement('code');\n",
       "            codePre.append(codeCode);\n",
       "            codeCode.innerHTML = qa.code;\n",
       "            outerqDiv.append(codeDiv);\n",
       "            //console.log(codeDiv);\n",
       "        }\n",
       "\n",
       "\n",
       "        // Create div to contain answer part\n",
       "        var aDiv = document.createElement('div');\n",
       "        aDiv.id = \"quizAns\" + id + index;\n",
       "        aDiv.className = 'Answer';\n",
       "        iDiv.append(aDiv);\n",
       "\n",
       "        //console.log(qa.type);\n",
       "\n",
       "        var num_correct;\n",
       "        if (qa.type == \"multiple_choice\") {\n",
       "            num_correct = make_mc(qa, shuffle_answers, outerqDiv, qDiv, aDiv, id);\n",
       "        } else if (qa.type == \"many_choice\") {\n",
       "            num_correct = make_mc(qa, shuffle_answers, outerqDiv, qDiv, aDiv, id);\n",
       "        } else if (qa.type == \"numeric\") {\n",
       "            //console.log(\"numeric\");\n",
       "            make_numeric(qa, outerqDiv, qDiv, aDiv, id);\n",
       "        }\n",
       "\n",
       "\n",
       "        //Make div for feedback\n",
       "        var fb = document.createElement(\"div\");\n",
       "        fb.id = \"fb\" + id;\n",
       "        //fb.style=\"font-size: 20px;text-align:center;\";\n",
       "        fb.className = \"Feedback\";\n",
       "        fb.setAttribute(\"data-answeredcorrect\", 0);\n",
       "        fb.setAttribute(\"data-numcorrect\", num_correct);\n",
       "        iDiv.append(fb);\n",
       "\n",
       "\n",
       "    });\n",
       "    //console.log(\"At end of show_questions\");\n",
       "    if (typeof MathJax != 'undefined') {\n",
       "        console.log(\"MathJax version\", MathJax.version);\n",
       "        var version = MathJax.version;\n",
       "        setTimeout(function(){\n",
       "            var version = MathJax.version;\n",
       "            console.log('After sleep, MathJax version', version);\n",
       "            if (version[0] == \"2\") {\n",
       "                MathJax.Hub.Queue([\"Typeset\", MathJax.Hub]);\n",
       "            } else if (version[0] == \"3\") {\n",
       "                MathJax.typeset([mydiv]);\n",
       "            }\n",
       "        }, 500);\n",
       "if (typeof version == 'undefined') {\n",
       "        } else\n",
       "        {\n",
       "            if (version[0] == \"2\") {\n",
       "                MathJax.Hub.Queue([\"Typeset\", MathJax.Hub]);\n",
       "            } else if (version[0] == \"3\") {\n",
       "                MathJax.typeset([mydiv]);\n",
       "            } else {\n",
       "                console.log(\"MathJax not found\");\n",
       "            }\n",
       "        }\n",
       "    }\n",
       "    return false;\n",
       "}\n",
       "\n",
       "        {\n",
       "        show_questions(questionsDvQdJgepeSpt,  DvQdJgepeSpt);\n",
       "        }\n",
       "        </script>\n",
       "        "
      ],
      "text/plain": [
       "<IPython.core.display.HTML object>"
      ]
     },
     "metadata": {},
     "output_type": "display_data"
    }
   ],
   "source": [
    "myquiz = md2json.convert(quiz)\n",
    "myquiz = json.loads(myquiz)\n",
    "display_quiz(myquiz)"
   ]
  }
 ],
 "metadata": {
  "kernelspec": {
   "display_name": "Python 3 (ipykernel)",
   "language": "python",
   "name": "python3"
  },
  "language_info": {
   "codemirror_mode": {
    "name": "ipython",
    "version": 3
   },
   "file_extension": ".py",
   "mimetype": "text/x-python",
   "name": "python",
   "nbconvert_exporter": "python",
   "pygments_lexer": "ipython3",
   "version": "3.8.5"
  }
 },
 "nbformat": 4,
 "nbformat_minor": 5
}
